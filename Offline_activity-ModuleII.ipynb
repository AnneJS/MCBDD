{
 "cells": [
  {
   "cell_type": "markdown",
   "id": "227dce63",
   "metadata": {},
   "source": [
    "## Offline activity : Module II"
   ]
  },
  {
   "cell_type": "markdown",
   "id": "b846047c",
   "metadata": {},
   "source": [
    "Date: 23.04.2022"
   ]
  },
  {
   "cell_type": "code",
   "execution_count": 1,
   "id": "f2e46727",
   "metadata": {},
   "outputs": [],
   "source": [
    "import numpy as np\n",
    "import pandas as pd\n",
    "import statistics\n",
    "import matplotlib.pyplot as plt\n",
    "import requests\n",
    "import json"
   ]
  },
  {
   "cell_type": "code",
   "execution_count": 2,
   "id": "5d5a9dd2",
   "metadata": {},
   "outputs": [],
   "source": [
    "%%capture\n",
    "pip install chembl_webresource_client"
   ]
  },
  {
   "cell_type": "markdown",
   "id": "d067f3c2",
   "metadata": {},
   "source": [
    "###  Task 1"
   ]
  },
  {
   "cell_type": "markdown",
   "id": "58fd4bd1",
   "metadata": {},
   "source": [
    "#### Retrieve all approved drugs from the ChEMBL database"
   ]
  },
  {
   "cell_type": "code",
   "execution_count": 3,
   "id": "48eeaf74",
   "metadata": {},
   "outputs": [
    {
     "name": "stdout",
     "output_type": "stream",
     "text": [
      "The number of approved currently equals 14293.\n"
     ]
    }
   ],
   "source": [
    "from chembl_webresource_client.new_client import new_client\n",
    "\n",
    "\n",
    "drugs = new_client.drug\n",
    "approved_drugs = drugs.filter(max_phase=4) # not neccessary : new_client.drug only contains approved drugs\n",
    "\n",
    "print(f'The number of approved currently equals {len(drugs)}.')"
   ]
  },
  {
   "cell_type": "markdown",
   "id": "659ff8f8",
   "metadata": {},
   "source": [
    "#### Sort drugs by approval year and name"
   ]
  },
  {
   "cell_type": "code",
   "execution_count": 4,
   "id": "1da67156",
   "metadata": {},
   "outputs": [
    {
     "data": {
      "text/plain": [
       "{'applicants': ['Idt Australia Ltd',\n",
       "  'Teva Pharmaceuticals Usa',\n",
       "  'Watson Laboratories Inc',\n",
       "  'American Therapeutics Inc',\n",
       "  'Mylan Pharmaceuticals Inc',\n",
       "  'Pfizer Inc',\n",
       "  'Ivax Pharmaceuticals Inc Sub Teva Pharmaceuticals Usa',\n",
       "  'Novitium Pharma Llc',\n",
       "  'Dava Pharmaceuticals Inc',\n",
       "  'Purepac Pharmaceutical Co'],\n",
       " 'atc_classification': [{'code': 'C02CA01',\n",
       "   'description': 'CARDIOVASCULAR SYSTEM: ANTIHYPERTENSIVES: ANTIADRENERGIC AGENTS, PERIPHERALLY ACTING: Alpha-adrenoreceptor antagonists'}],\n",
       " 'availability_type': 1,\n",
       " 'biotherapeutic': None,\n",
       " 'black_box': False,\n",
       " 'black_box_warning': '0',\n",
       " 'chirality': 2,\n",
       " 'development_phase': 4,\n",
       " 'drug_type': 1,\n",
       " 'first_approval': 1976,\n",
       " 'first_in_class': False,\n",
       " 'helm_notation': None,\n",
       " 'indication_class': 'Antihypertensive',\n",
       " 'molecule_chembl_id': 'CHEMBL2',\n",
       " 'molecule_properties': {'alogp': '1.78',\n",
       "  'aromatic_rings': 3,\n",
       "  'cx_logd': '1.43',\n",
       "  'cx_logp': '1.65',\n",
       "  'cx_most_apka': None,\n",
       "  'cx_most_bpka': '7.24',\n",
       "  'full_molformula': 'C19H21N5O4',\n",
       "  'full_mwt': '383.41',\n",
       "  'hba': 8,\n",
       "  'hba_lipinski': 9,\n",
       "  'hbd': 1,\n",
       "  'hbd_lipinski': 2,\n",
       "  'heavy_atoms': 28,\n",
       "  'molecular_species': 'NEUTRAL',\n",
       "  'mw_freebase': '383.41',\n",
       "  'mw_monoisotopic': '383.1594',\n",
       "  'num_lipinski_ro5_violations': 0,\n",
       "  'num_ro5_violations': 0,\n",
       "  'psa': '106.95',\n",
       "  'qed_weighted': '0.73',\n",
       "  'ro3_pass': 'N',\n",
       "  'rtb': 4},\n",
       " 'molecule_structures': {'canonical_smiles': 'COc1cc2nc(N3CCN(C(=O)c4ccco4)CC3)nc(N)c2cc1OC',\n",
       "  'molfile': '\\n     RDKit          2D\\n\\n 28 31  0  0  0  0  0  0  0  0999 V2000\\n    0.9375   -1.9792    0.0000 C   0  0  0  0  0  0  0  0  0  0  0  0\\n    0.9292   -2.6917    0.0000 N   0  0  0  0  0  0  0  0  0  0  0  0\\n   -0.3208   -2.6750    0.0000 C   0  0  0  0  0  0  0  0  0  0  0  0\\n    0.2875   -3.0417    0.0000 C   0  0  0  0  0  0  0  0  0  0  0  0\\n    0.3042   -1.6167    0.0000 N   0  0  0  0  0  0  0  0  0  0  0  0\\n   -0.3208   -1.9625    0.0000 C   0  0  0  0  0  0  0  0  0  0  0  0\\n    3.3917   -0.5917    0.0000 C   0  0  0  0  0  0  0  0  0  0  0  0\\n    1.5542   -1.6417    0.0000 N   0  0  0  0  0  0  0  0  0  0  0  0\\n    2.7792   -0.9542    0.0000 N   0  0  0  0  0  0  0  0  0  0  0  0\\n   -0.9500   -3.0167    0.0000 C   0  0  0  0  0  0  0  0  0  0  0  0\\n    4.0125   -0.9292    0.0000 C   0  0  0  0  0  0  0  0  0  0  0  0\\n   -0.9250   -1.5917    0.0000 C   0  0  0  0  0  0  0  0  0  0  0  0\\n   -1.5833   -2.6542    0.0000 C   0  0  0  0  0  0  0  0  0  0  0  0\\n   -1.5708   -1.9417    0.0000 C   0  0  0  0  0  0  0  0  0  0  0  0\\n    4.2417   -1.5917    0.0000 O   0  0  0  0  0  0  0  0  0  0  0  0\\n    1.5417   -0.9500    0.0000 C   0  0  0  0  0  0  0  0  0  0  0  0\\n    2.1667   -2.0000    0.0000 C   0  0  0  0  0  0  0  0  0  0  0  0\\n    2.1667   -0.5792    0.0000 C   0  0  0  0  0  0  0  0  0  0  0  0\\n    2.7792   -1.6375    0.0000 C   0  0  0  0  0  0  0  0  0  0  0  0\\n    3.4042    0.0875    0.0000 O   0  0  0  0  0  0  0  0  0  0  0  0\\n    4.5792   -0.5125    0.0000 C   0  0  0  0  0  0  0  0  0  0  0  0\\n    4.9417   -1.5917    0.0000 C   0  0  0  0  0  0  0  0  0  0  0  0\\n    5.1542   -0.9292    0.0000 C   0  0  0  0  0  0  0  0  0  0  0  0\\n    0.2667   -3.7542    0.0000 N   0  0  0  0  0  0  0  0  0  0  0  0\\n   -2.2000   -2.9917    0.0000 O   0  0  0  0  0  0  0  0  0  0  0  0\\n   -2.1833   -1.5792    0.0000 O   0  0  0  0  0  0  0  0  0  0  0  0\\n   -2.7958   -1.9125    0.0000 C   0  0  0  0  0  0  0  0  0  0  0  0\\n   -2.7958   -2.6542    0.0000 C   0  0  0  0  0  0  0  0  0  0  0  0\\n  2  1  2  0\\n  3  6  1  0\\n  4  2  1  0\\n  5  1  1  0\\n  6  5  2  0\\n  7  9  1  0\\n  8  1  1  0\\n  9 19  1  0\\n 10  3  1  0\\n 11  7  1  0\\n 12  6  1  0\\n 13 14  1  0\\n 14 12  2  0\\n 15 11  1  0\\n 16  8  1  0\\n 17  8  1  0\\n 18 16  1  0\\n 19 17  1  0\\n 20  7  2  0\\n 21 11  2  0\\n 22 15  1  0\\n 23 21  1  0\\n 24  4  1  0\\n 25 13  1  0\\n 26 14  1  0\\n 27 26  1  0\\n 28 25  1  0\\n  3  4  2  0\\n  9 18  1  0\\n 10 13  2  0\\n 22 23  2  0\\nM  END',\n",
       "  'standard_inchi': 'InChI=1S/C19H21N5O4/c1-26-15-10-12-13(11-16(15)27-2)21-19(22-17(12)20)24-7-5-23(6-8-24)18(25)14-4-3-9-28-14/h3-4,9-11H,5-8H2,1-2H3,(H2,20,21,22)',\n",
       "  'standard_inchi_key': 'IENZQIKPVFGBNW-UHFFFAOYSA-N'},\n",
       " 'molecule_synonyms': [{'molecule_synonym': 'CP-12299',\n",
       "   'syn_type': 'RESEARCH_CODE',\n",
       "   'synonyms': 'CP-12299'},\n",
       "  {'molecule_synonym': 'CP-122991',\n",
       "   'syn_type': 'RESEARCH_CODE',\n",
       "   'synonyms': 'CP-122991'},\n",
       "  {'molecule_synonym': 'Prazosin', 'syn_type': 'FDA', 'synonyms': 'Prazosin'},\n",
       "  {'molecule_synonym': 'Prazosin', 'syn_type': 'ATC', 'synonyms': 'PRAZOSIN'},\n",
       "  {'molecule_synonym': 'Prazosin', 'syn_type': 'BAN', 'synonyms': 'PRAZOSIN'},\n",
       "  {'molecule_synonym': 'Prazosin', 'syn_type': 'INN', 'synonyms': 'PRAZOSIN'},\n",
       "  {'molecule_synonym': 'Prazosin',\n",
       "   'syn_type': 'MERCK_INDEX',\n",
       "   'synonyms': 'PRAZOSIN'},\n",
       "  {'molecule_synonym': 'Prazosin',\n",
       "   'syn_type': 'OTHER',\n",
       "   'synonyms': 'PRAZOSIN'}],\n",
       " 'ob_patent': None,\n",
       " 'oral': True,\n",
       " 'parenteral': False,\n",
       " 'prodrug': False,\n",
       " 'research_codes': ['CP-12299',\n",
       "  'CP-122991',\n",
       "  'CP-12,299-1',\n",
       "  'NSC-292810',\n",
       "  'CP-12299-1'],\n",
       " 'rule_of_five': True,\n",
       " 'sc_patent': None,\n",
       " 'synonyms': ['Prazosin hydrochloride (FDA, JAN, MI, USAN, USP)',\n",
       "  'Prazosin (BAN, INN, MI)',\n",
       "  ''],\n",
       " 'topical': False,\n",
       " 'usan_stem': '-azosin',\n",
       " 'usan_stem_definition': 'antihypertensives (prazosin type)',\n",
       " 'usan_stem_substem': '-azosin(-azosin)',\n",
       " 'usan_year': 1968,\n",
       " 'withdrawn_class': None,\n",
       " 'withdrawn_country': None,\n",
       " 'withdrawn_flag': '0',\n",
       " 'withdrawn_reason': None,\n",
       " 'withdrawn_year': None}"
      ]
     },
     "execution_count": 4,
     "metadata": {},
     "output_type": "execute_result"
    }
   ],
   "source": [
    "# exemplary drug\n",
    "drugs[0]"
   ]
  },
  {
   "cell_type": "code",
   "execution_count": 5,
   "id": "4f99b9a2",
   "metadata": {},
   "outputs": [
    {
     "data": {
      "text/plain": [
       "{'applicants': None,\n",
       " 'atc_code_description': None,\n",
       " 'availability_type': None,\n",
       " 'biotherapeutic': None,\n",
       " 'black_box': False,\n",
       " 'black_box_warning': '0',\n",
       " 'chirality': -1,\n",
       " 'development_phase': 2,\n",
       " 'drug_type': -1,\n",
       " 'first_approval': None,\n",
       " 'first_in_class': False,\n",
       " 'helm_notation': None,\n",
       " 'indication_class': None,\n",
       " 'molecule_chembl_id': 'CHEMBL4297679',\n",
       " 'molecule_properties': None,\n",
       " 'molecule_structures': None,\n",
       " 'molecule_synonyms': [{'molecule_synonym': '10-1074',\n",
       "   'syn_type': 'OTHER',\n",
       "   'synonyms': '10-1074'},\n",
       "  {'molecule_synonym': '10-1074',\n",
       "   'syn_type': 'RESEARCH_CODE',\n",
       "   'synonyms': '10-1074'}],\n",
       " 'ob_patent': None,\n",
       " 'oral': False,\n",
       " 'parenteral': False,\n",
       " 'prodrug': False,\n",
       " 'research_codes': ['10-1074'],\n",
       " 'rule_of_five': False,\n",
       " 'sc_patent': None,\n",
       " 'synonyms': ['10-1074'],\n",
       " 'topical': False,\n",
       " 'usan_stem': None,\n",
       " 'usan_stem_definition': None,\n",
       " 'usan_stem_substem': None,\n",
       " 'usan_year': None,\n",
       " 'withdrawn_class': None,\n",
       " 'withdrawn_country': None,\n",
       " 'withdrawn_flag': '0',\n",
       " 'withdrawn_reason': None,\n",
       " 'withdrawn_year': None}"
      ]
     },
     "execution_count": 5,
     "metadata": {},
     "output_type": "execute_result"
    }
   ],
   "source": [
    "drugs_sorted_name = approved_drugs.order_by('synonyms') # drugs sorted by name\n",
    "drugs_sorted_name[0]"
   ]
  },
  {
   "cell_type": "code",
   "execution_count": 6,
   "id": "df989668",
   "metadata": {},
   "outputs": [
    {
     "data": {
      "text/plain": [
       "{'applicants': ['Eli Lilly And Co'],\n",
       " 'atc_classification': [{'code': 'J01EB04',\n",
       "   'description': 'ANTIINFECTIVES FOR SYSTEMIC USE: ANTIBACTERIALS FOR SYSTEMIC USE: SULFONAMIDES AND TRIMETHOPRIM: Short-acting sulfonamides'}],\n",
       " 'availability_type': 0,\n",
       " 'biotherapeutic': None,\n",
       " 'black_box': False,\n",
       " 'black_box_warning': '0',\n",
       " 'chirality': 2,\n",
       " 'development_phase': 4,\n",
       " 'drug_type': 1,\n",
       " 'first_approval': 1939,\n",
       " 'first_in_class': False,\n",
       " 'helm_notation': None,\n",
       " 'indication_class': 'Suppressant (dermatitis herpetiformis)',\n",
       " 'molecule_chembl_id': 'CHEMBL700',\n",
       " 'molecule_properties': {'alogp': '1.46',\n",
       "  'aromatic_rings': 2,\n",
       "  'cx_logd': '0.24',\n",
       "  'cx_logp': '1.01',\n",
       "  'cx_most_apka': '6.24',\n",
       "  'cx_most_bpka': '2.14',\n",
       "  'full_molformula': 'C11H11N3O2S',\n",
       "  'full_mwt': '249.30',\n",
       "  'hba': 4,\n",
       "  'hba_lipinski': 5,\n",
       "  'hbd': 2,\n",
       "  'hbd_lipinski': 3,\n",
       "  'heavy_atoms': 17,\n",
       "  'molecular_species': 'ACID',\n",
       "  'mw_freebase': '249.30',\n",
       "  'mw_monoisotopic': '249.0572',\n",
       "  'num_lipinski_ro5_violations': 0,\n",
       "  'num_ro5_violations': 0,\n",
       "  'psa': '85.08',\n",
       "  'qed_weighted': '0.81',\n",
       "  'ro3_pass': 'N',\n",
       "  'rtb': 3},\n",
       " 'molecule_structures': {'canonical_smiles': 'Nc1ccc(S(=O)(=O)Nc2ccccn2)cc1',\n",
       "  'molfile': '\\n     RDKit          2D\\n\\n 17 18  0  0  0  0  0  0  0  0999 V2000\\n    1.2042   -3.0167    0.0000 S   0  0  0  0  0  0  0  0  0  0  0  0\\n    1.2042   -2.3000    0.0000 N   0  0  0  0  0  0  0  0  0  0  0  0\\n    1.2042   -3.7417    0.0000 C   0  0  0  0  0  0  0  0  0  0  0  0\\n    0.5667   -1.9542    0.0000 C   0  0  0  0  0  0  0  0  0  0  0  0\\n    0.5167   -3.0167    0.0000 O   0  0  0  0  0  0  0  0  0  0  0  0\\n    1.9292   -3.0167    0.0000 O   0  0  0  0  0  0  0  0  0  0  0  0\\n   -0.0708   -2.3042    0.0000 N   0  0  0  0  0  0  0  0  0  0  0  0\\n    1.8417   -4.0667    0.0000 C   0  0  0  0  0  0  0  0  0  0  0  0\\n    0.6292   -4.0792    0.0000 C   0  0  0  0  0  0  0  0  0  0  0  0\\n    1.2500   -5.1500    0.0000 C   0  0  0  0  0  0  0  0  0  0  0  0\\n    1.2500   -5.8542    0.0000 N   0  0  0  0  0  0  0  0  0  0  0  0\\n    0.6167   -4.8000    0.0000 C   0  0  0  0  0  0  0  0  0  0  0  0\\n    1.8417   -4.8250    0.0000 C   0  0  0  0  0  0  0  0  0  0  0  0\\n   -0.6708   -1.9542    0.0000 C   0  0  0  0  0  0  0  0  0  0  0  0\\n    0.5667   -1.2542    0.0000 C   0  0  0  0  0  0  0  0  0  0  0  0\\n   -0.6708   -1.2542    0.0000 C   0  0  0  0  0  0  0  0  0  0  0  0\\n   -0.0708   -0.9000    0.0000 C   0  0  0  0  0  0  0  0  0  0  0  0\\n  2  1  1  0\\n  3  1  1  0\\n  4  2  1  0\\n  5  1  2  0\\n  6  1  2  0\\n  7  4  1  0\\n  8  3  1  0\\n  9  3  2  0\\n 10 12  2  0\\n 11 10  1  0\\n 12  9  1  0\\n 13  8  2  0\\n 14  7  2  0\\n 15  4  2  0\\n 16 17  2  0\\n 17 15  1  0\\n 13 10  1  0\\n 14 16  1  0\\nM  END',\n",
       "  'standard_inchi': 'InChI=1S/C11H11N3O2S/c12-9-4-6-10(7-5-9)17(15,16)14-11-3-1-2-8-13-11/h1-8H,12H2,(H,13,14)',\n",
       "  'standard_inchi_key': 'GECHUMIMRBOMGK-UHFFFAOYSA-N'},\n",
       " 'molecule_synonyms': [{'molecule_synonym': 'Coccoclase',\n",
       "   'syn_type': 'TRADE_NAME',\n",
       "   'synonyms': 'Coccoclase'},\n",
       "  {'molecule_synonym': 'Concord 693',\n",
       "   'syn_type': 'TRADE_NAME',\n",
       "   'synonyms': 'CONCORD 693'},\n",
       "  {'molecule_synonym': 'Dagenan',\n",
       "   'syn_type': 'TRADE_NAME',\n",
       "   'synonyms': 'DAGENAN'},\n",
       "  {'molecule_synonym': 'Eubasin',\n",
       "   'syn_type': 'TRADE_NAME',\n",
       "   'synonyms': 'Eubasin'},\n",
       "  {'molecule_synonym': 'NSC-41791',\n",
       "   'syn_type': 'RESEARCH_CODE',\n",
       "   'synonyms': 'NSC-41791'},\n",
       "  {'molecule_synonym': 'NSC-4753',\n",
       "   'syn_type': 'RESEARCH_CODE',\n",
       "   'synonyms': 'NSC-4753'},\n",
       "  {'molecule_synonym': 'Piridazol',\n",
       "   'syn_type': 'TRADE_NAME',\n",
       "   'synonyms': 'Piridazol'},\n",
       "  {'molecule_synonym': 'Sulfanilamidopyridine',\n",
       "   'syn_type': 'TRADE_NAME',\n",
       "   'synonyms': 'Sulfanilamidopyridine'},\n",
       "  {'molecule_synonym': 'Sulfapyridine',\n",
       "   'syn_type': 'USAN',\n",
       "   'synonyms': 'Sulfapyridine'},\n",
       "  {'molecule_synonym': 'Sulfapyridine',\n",
       "   'syn_type': 'ATC',\n",
       "   'synonyms': 'SULFAPYRIDINE'},\n",
       "  {'molecule_synonym': 'Sulfapyridine',\n",
       "   'syn_type': 'BAN',\n",
       "   'synonyms': 'SULFAPYRIDINE'},\n",
       "  {'molecule_synonym': 'Sulfapyridine',\n",
       "   'syn_type': 'BNF',\n",
       "   'synonyms': 'SULFAPYRIDINE'},\n",
       "  {'molecule_synonym': 'Sulfapyridine',\n",
       "   'syn_type': 'FDA',\n",
       "   'synonyms': 'SULFAPYRIDINE'},\n",
       "  {'molecule_synonym': 'Sulfapyridine',\n",
       "   'syn_type': 'INN',\n",
       "   'synonyms': 'SULFAPYRIDINE'},\n",
       "  {'molecule_synonym': 'Sulfapyridine',\n",
       "   'syn_type': 'TRADE_NAME',\n",
       "   'synonyms': 'SULFAPYRIDINE'},\n",
       "  {'molecule_synonym': 'Sulfapyridine',\n",
       "   'syn_type': 'USP',\n",
       "   'synonyms': 'SULFAPYRIDINE'},\n",
       "  {'molecule_synonym': 'Sulphapyridine',\n",
       "   'syn_type': 'OTHER',\n",
       "   'synonyms': 'SULPHAPYRIDINE'}],\n",
       " 'ob_patent': None,\n",
       " 'oral': True,\n",
       " 'parenteral': False,\n",
       " 'prodrug': False,\n",
       " 'research_codes': ['NSC-41791', 'NSC-4753'],\n",
       " 'rule_of_five': True,\n",
       " 'sc_patent': None,\n",
       " 'synonyms': ['Sulfapyridine sodium (MI, NF)',\n",
       "  'Sulfapyridine (BAN, FDA, INN, USP)',\n",
       "  ''],\n",
       " 'topical': False,\n",
       " 'usan_stem': 'sulfa-',\n",
       " 'usan_stem_definition': 'antimicrobials (sulfonamides derivatives)',\n",
       " 'usan_stem_substem': 'sulfa-(sulfa-)',\n",
       " 'usan_year': None,\n",
       " 'withdrawn_class': None,\n",
       " 'withdrawn_country': None,\n",
       " 'withdrawn_flag': '0',\n",
       " 'withdrawn_reason': None,\n",
       " 'withdrawn_year': None}"
      ]
     },
     "execution_count": 6,
     "metadata": {},
     "output_type": "execute_result"
    }
   ],
   "source": [
    "drugs_sorted_year = approved_drugs.order_by('first_approval') # drugs sorted by approval year\n",
    "\n",
    "drugs_sorted_year[0]"
   ]
  },
  {
   "cell_type": "code",
   "execution_count": 7,
   "id": "bda3d556",
   "metadata": {},
   "outputs": [
    {
     "name": "stdout",
     "output_type": "stream",
     "text": [
      "The first drug was approved in the year 1939.\n"
     ]
    }
   ],
   "source": [
    "first_approval_year = drugs_sorted_year[0]['first_approval']\n",
    "print(f'The first drug was approved in the year {first_approval_year}.')"
   ]
  },
  {
   "cell_type": "markdown",
   "id": "69f76cb7",
   "metadata": {},
   "source": [
    "### Task 2"
   ]
  },
  {
   "cell_type": "markdown",
   "id": "24c1dac0",
   "metadata": {},
   "source": [
    "#### Filtering the drugs that were approved since 2012"
   ]
  },
  {
   "cell_type": "code",
   "execution_count": 8,
   "id": "f83331eb",
   "metadata": {},
   "outputs": [
    {
     "data": {
      "text/plain": [
       "446"
      ]
     },
     "execution_count": 8,
     "metadata": {},
     "output_type": "execute_result"
    }
   ],
   "source": [
    "drugs_since_2012 = drugs.filter(first_approval__in = [x for x in range(2012,2023)])\n",
    "len(drugs_since_2012)\n"
   ]
  },
  {
   "cell_type": "markdown",
   "id": "aebe661d",
   "metadata": {},
   "source": [
    "#### Determining the UniProt accession numbers"
   ]
  },
  {
   "cell_type": "code",
   "execution_count": 9,
   "id": "6c02e38c",
   "metadata": {},
   "outputs": [
    {
     "data": {
      "text/plain": [
       "{'cross_references': [{'xref_id': 'O43451',\n",
       "   'xref_name': None,\n",
       "   'xref_src': 'canSAR-Target'},\n",
       "  {'xref_id': 'Maltase-glucoamylase',\n",
       "   'xref_name': None,\n",
       "   'xref_src': 'Wikipedia'}],\n",
       " 'organism': 'Homo sapiens',\n",
       " 'pref_name': 'Maltase-glucoamylase',\n",
       " 'species_group_flag': False,\n",
       " 'target_chembl_id': 'CHEMBL2074',\n",
       " 'target_components': [{'accession': 'O43451',\n",
       "   'component_description': 'Maltase-glucoamylase, intestinal',\n",
       "   'component_id': 434,\n",
       "   'component_type': 'PROTEIN',\n",
       "   'relationship': 'SINGLE PROTEIN',\n",
       "   'target_component_synonyms': [{'component_synonym': '3.2.1.20',\n",
       "     'syn_type': 'EC_NUMBER'},\n",
       "    {'component_synonym': '3.2.1.3', 'syn_type': 'EC_NUMBER'},\n",
       "    {'component_synonym': 'Alpha-glucosidase', 'syn_type': 'UNIPROT'},\n",
       "    {'component_synonym': 'Glucan 1,4-alpha-glucosidase',\n",
       "     'syn_type': 'UNIPROT'},\n",
       "    {'component_synonym': 'Glucoamylase', 'syn_type': 'UNIPROT'},\n",
       "    {'component_synonym': 'Maltase', 'syn_type': 'UNIPROT'},\n",
       "    {'component_synonym': 'Maltase-glucoamylase, intestinal',\n",
       "     'syn_type': 'UNIPROT'},\n",
       "    {'component_synonym': 'MGA', 'syn_type': 'GENE_SYMBOL_OTHER'},\n",
       "    {'component_synonym': 'MGAM', 'syn_type': 'GENE_SYMBOL'},\n",
       "    {'component_synonym': 'MGAML', 'syn_type': 'GENE_SYMBOL_OTHER'}],\n",
       "   'target_component_xrefs': [{'xref_id': 'ENSG00000257335',\n",
       "     'xref_name': None,\n",
       "     'xref_src_db': 'EnsemblGene'},\n",
       "    {'xref_id': 'O43451', 'xref_name': None, 'xref_src_db': 'ExpressionAtlas'},\n",
       "    {'xref_id': 'GO:0005886',\n",
       "     'xref_name': 'plasma membrane',\n",
       "     'xref_src_db': 'GoComponent'},\n",
       "    {'xref_id': 'GO:0016020',\n",
       "     'xref_name': 'membrane',\n",
       "     'xref_src_db': 'GoComponent'},\n",
       "    {'xref_id': 'GO:0016021',\n",
       "     'xref_name': 'integral component of membrane',\n",
       "     'xref_src_db': 'GoComponent'},\n",
       "    {'xref_id': 'GO:0016324',\n",
       "     'xref_name': 'apical plasma membrane',\n",
       "     'xref_src_db': 'GoComponent'},\n",
       "    {'xref_id': 'GO:0070062',\n",
       "     'xref_name': 'extracellular exosome',\n",
       "     'xref_src_db': 'GoComponent'},\n",
       "    {'xref_id': 'GO:0070821',\n",
       "     'xref_name': 'tertiary granule membrane',\n",
       "     'xref_src_db': 'GoComponent'},\n",
       "    {'xref_id': 'GO:0101003',\n",
       "     'xref_name': 'ficolin-1-rich granule membrane',\n",
       "     'xref_src_db': 'GoComponent'},\n",
       "    {'xref_id': 'GO:0003824',\n",
       "     'xref_name': 'catalytic activity',\n",
       "     'xref_src_db': 'GoFunction'},\n",
       "    {'xref_id': 'GO:0004339',\n",
       "     'xref_name': 'glucan 1,4-alpha-glucosidase activity',\n",
       "     'xref_src_db': 'GoFunction'},\n",
       "    {'xref_id': 'GO:0004553',\n",
       "     'xref_name': 'hydrolase activity, hydrolyzing O-glycosyl compounds',\n",
       "     'xref_src_db': 'GoFunction'},\n",
       "    {'xref_id': 'GO:0004558',\n",
       "     'xref_name': 'alpha-1,4-glucosidase activity',\n",
       "     'xref_src_db': 'GoFunction'},\n",
       "    {'xref_id': 'GO:0005515',\n",
       "     'xref_name': 'protein binding',\n",
       "     'xref_src_db': 'GoFunction'},\n",
       "    {'xref_id': 'GO:0016787',\n",
       "     'xref_name': 'hydrolase activity',\n",
       "     'xref_src_db': 'GoFunction'},\n",
       "    {'xref_id': 'GO:0016798',\n",
       "     'xref_name': 'hydrolase activity, acting on glycosyl bonds',\n",
       "     'xref_src_db': 'GoFunction'},\n",
       "    {'xref_id': 'GO:0030246',\n",
       "     'xref_name': 'carbohydrate binding',\n",
       "     'xref_src_db': 'GoFunction'},\n",
       "    {'xref_id': 'GO:0032450',\n",
       "     'xref_name': 'maltose alpha-glucosidase activity',\n",
       "     'xref_src_db': 'GoFunction'},\n",
       "    {'xref_id': 'GO:0090599',\n",
       "     'xref_name': 'alpha-glucosidase activity',\n",
       "     'xref_src_db': 'GoFunction'},\n",
       "    {'xref_id': 'GO:0000025',\n",
       "     'xref_name': 'maltose catabolic process',\n",
       "     'xref_src_db': 'GoProcess'},\n",
       "    {'xref_id': 'GO:0005975',\n",
       "     'xref_name': 'carbohydrate metabolic process',\n",
       "     'xref_src_db': 'GoProcess'},\n",
       "    {'xref_id': 'GO:0005983',\n",
       "     'xref_name': 'starch catabolic process',\n",
       "     'xref_src_db': 'GoProcess'},\n",
       "    {'xref_id': 'GO:0008152',\n",
       "     'xref_name': 'metabolic process',\n",
       "     'xref_src_db': 'GoProcess'},\n",
       "    {'xref_id': 'GO:1901027',\n",
       "     'xref_name': 'dextrin catabolic process',\n",
       "     'xref_src_db': 'GoProcess'},\n",
       "    {'xref_id': '2627',\n",
       "     'xref_name': None,\n",
       "     'xref_src_db': 'GuideToPHARMACOLOGY'},\n",
       "    {'xref_id': 'O43451', 'xref_name': None, 'xref_src_db': 'IntAct'},\n",
       "    {'xref_id': 'IPR000322',\n",
       "     'xref_name': 'Glyco_hydro_31.',\n",
       "     'xref_src_db': 'InterPro'},\n",
       "    {'xref_id': 'IPR000519',\n",
       "     'xref_name': 'P_trefoil_dom.',\n",
       "     'xref_src_db': 'InterPro'},\n",
       "    {'xref_id': 'IPR011013',\n",
       "     'xref_name': 'Gal_mutarotase_sf_dom.',\n",
       "     'xref_src_db': 'InterPro'},\n",
       "    {'xref_id': 'IPR013780',\n",
       "     'xref_name': 'Glyco_hydro_b.',\n",
       "     'xref_src_db': 'InterPro'},\n",
       "    {'xref_id': 'IPR017853',\n",
       "     'xref_name': 'Glycoside_hydrolase_SF.',\n",
       "     'xref_src_db': 'InterPro'},\n",
       "    {'xref_id': 'IPR017957',\n",
       "     'xref_name': 'P_trefoil_CS.',\n",
       "     'xref_src_db': 'InterPro'},\n",
       "    {'xref_id': 'IPR030458',\n",
       "     'xref_name': 'Glyco_hydro_31_AS.',\n",
       "     'xref_src_db': 'InterPro'},\n",
       "    {'xref_id': 'IPR030459',\n",
       "     'xref_name': 'Glyco_hydro_31_CS.',\n",
       "     'xref_src_db': 'InterPro'},\n",
       "    {'xref_id': 'IPR031727',\n",
       "     'xref_name': 'Gal_mutarotase_N.',\n",
       "     'xref_src_db': 'InterPro'},\n",
       "    {'xref_id': '2QLY', 'xref_name': 'A', 'xref_src_db': 'PDBe'},\n",
       "    {'xref_id': '2QMJ', 'xref_name': 'A', 'xref_src_db': 'PDBe'},\n",
       "    {'xref_id': '3CTT', 'xref_name': 'A', 'xref_src_db': 'PDBe'},\n",
       "    {'xref_id': '3L4T', 'xref_name': 'A', 'xref_src_db': 'PDBe'},\n",
       "    {'xref_id': '3L4U', 'xref_name': 'A', 'xref_src_db': 'PDBe'},\n",
       "    {'xref_id': '3L4V', 'xref_name': 'A', 'xref_src_db': 'PDBe'},\n",
       "    {'xref_id': '3L4W', 'xref_name': 'A', 'xref_src_db': 'PDBe'},\n",
       "    {'xref_id': '3L4X', 'xref_name': 'A', 'xref_src_db': 'PDBe'},\n",
       "    {'xref_id': '3L4Y', 'xref_name': 'A', 'xref_src_db': 'PDBe'},\n",
       "    {'xref_id': '3L4Z', 'xref_name': 'A', 'xref_src_db': 'PDBe'},\n",
       "    {'xref_id': '3TON', 'xref_name': 'A', 'xref_src_db': 'PDBe'},\n",
       "    {'xref_id': '3TOP', 'xref_name': 'A', 'xref_src_db': 'PDBe'},\n",
       "    {'xref_id': 'PF00088', 'xref_name': 'Trefoil', 'xref_src_db': 'Pfam'},\n",
       "    {'xref_id': 'PF01055',\n",
       "     'xref_name': 'Glyco_hydro_31',\n",
       "     'xref_src_db': 'Pfam'},\n",
       "    {'xref_id': 'PF16863', 'xref_name': 'NtCtMGAM_N', 'xref_src_db': 'Pfam'},\n",
       "    {'xref_id': 'PA30778',\n",
       "     'xref_name': 'maltase-glucoamylase (alpha-glucosidase)',\n",
       "     'xref_src_db': 'PharmGKB'},\n",
       "    {'xref_id': 'O43451', 'xref_name': 'Tclin', 'xref_src_db': 'Pharos'},\n",
       "    {'xref_id': 'R-HSA-189085',\n",
       "     'xref_name': 'Digestion of dietary carbohydrate.',\n",
       "     'xref_src_db': 'Reactome'},\n",
       "    {'xref_id': 'R-HSA-6798695',\n",
       "     'xref_name': 'Neutrophil degranulation.',\n",
       "     'xref_src_db': 'Reactome'},\n",
       "    {'xref_id': 'O43451', 'xref_name': None, 'xref_src_db': 'UniProt'},\n",
       "    {'xref_id': 'Q0VAX6', 'xref_name': None, 'xref_src_db': 'UniProt'},\n",
       "    {'xref_id': 'Q75ME7', 'xref_name': None, 'xref_src_db': 'UniProt'},\n",
       "    {'xref_id': 'Q86UM5', 'xref_name': None, 'xref_src_db': 'UniProt'}]}],\n",
       " 'target_type': 'SINGLE PROTEIN',\n",
       " 'tax_id': 9606}"
      ]
     },
     "execution_count": 9,
     "metadata": {},
     "output_type": "execute_result"
    }
   ],
   "source": [
    "targets = new_client.target\n",
    "\n",
    "# exemplary target\n",
    "targets[0]"
   ]
  },
  {
   "cell_type": "code",
   "execution_count": 10,
   "id": "61d8fd87",
   "metadata": {},
   "outputs": [
    {
     "data": {
      "text/plain": [
       "'O43451'"
      ]
     },
     "execution_count": 10,
     "metadata": {},
     "output_type": "execute_result"
    }
   ],
   "source": [
    "# exemplary accession number\n",
    "targets[0]['target_components'][0]['accession']"
   ]
  },
  {
   "cell_type": "code",
   "execution_count": 11,
   "id": "2f23f297",
   "metadata": {},
   "outputs": [
    {
     "data": {
      "text/plain": [
       "{'activity_comment': None,\n",
       " 'activity_id': 31863,\n",
       " 'activity_properties': [],\n",
       " 'assay_chembl_id': 'CHEMBL663853',\n",
       " 'assay_description': 'Inhibitory concentration against human DNA topoisomerase II, alpha mediated relaxation of pBR322; no measurable activity',\n",
       " 'assay_type': 'B',\n",
       " 'assay_variant_accession': None,\n",
       " 'assay_variant_mutation': None,\n",
       " 'bao_endpoint': 'BAO_0000190',\n",
       " 'bao_format': 'BAO_0000357',\n",
       " 'bao_label': 'single protein format',\n",
       " 'canonical_smiles': 'c1ccc(-c2nc3c(-c4nc5ccccc5o4)cccc3o2)cc1',\n",
       " 'data_validity_comment': None,\n",
       " 'data_validity_description': None,\n",
       " 'document_chembl_id': 'CHEMBL1137930',\n",
       " 'document_journal': 'Bioorg. Med. Chem. Lett.',\n",
       " 'document_year': 2004,\n",
       " 'ligand_efficiency': None,\n",
       " 'molecule_chembl_id': 'CHEMBL113081',\n",
       " 'molecule_pref_name': None,\n",
       " 'parent_molecule_chembl_id': 'CHEMBL113081',\n",
       " 'pchembl_value': None,\n",
       " 'potential_duplicate': False,\n",
       " 'qudt_units': 'http://www.openphacts.org/units/Nanomolar',\n",
       " 'record_id': 206172,\n",
       " 'relation': '>',\n",
       " 'src_id': 1,\n",
       " 'standard_flag': True,\n",
       " 'standard_relation': '>',\n",
       " 'standard_text_value': None,\n",
       " 'standard_type': 'IC50',\n",
       " 'standard_units': 'nM',\n",
       " 'standard_upper_value': None,\n",
       " 'standard_value': '100000.0',\n",
       " 'target_chembl_id': 'CHEMBL1806',\n",
       " 'target_organism': 'Homo sapiens',\n",
       " 'target_pref_name': 'DNA topoisomerase II alpha',\n",
       " 'target_tax_id': '9606',\n",
       " 'text_value': None,\n",
       " 'toid': None,\n",
       " 'type': 'IC50',\n",
       " 'units': 'uM',\n",
       " 'uo_units': 'UO_0000065',\n",
       " 'upper_value': None,\n",
       " 'value': '100.0'}"
      ]
     },
     "execution_count": 11,
     "metadata": {},
     "output_type": "execute_result"
    }
   ],
   "source": [
    "activities = new_client.activity\n",
    "#exemplary activity\n",
    "activities[0]"
   ]
  },
  {
   "cell_type": "code",
   "execution_count": 12,
   "id": "648ca15d",
   "metadata": {},
   "outputs": [
    {
     "data": {
      "text/plain": [
       "[('CHEMBL278020',\n",
       "  ['P02545',\n",
       "   'P08482',\n",
       "   'P08482',\n",
       "   'Q96KQ7',\n",
       "   'P11712',\n",
       "   'P11712',\n",
       "   'P08684',\n",
       "   'P05177',\n",
       "   'P33261',\n",
       "   'P05177',\n",
       "   'P10635',\n",
       "   'P08684',\n",
       "   'P33261',\n",
       "   'P10635',\n",
       "   'P49798',\n",
       "   'P15289',\n",
       "   'P04058',\n",
       "   'P81908',\n",
       "   'O42275',\n",
       "   'P06276',\n",
       "   'O42275',\n",
       "   'P06276',\n",
       "   'P22303',\n",
       "   'O42275',\n",
       "   'P06276',\n",
       "   'O95342',\n",
       "   'O95342',\n",
       "   'O95342',\n",
       "   'Q92887',\n",
       "   'O15438',\n",
       "   'O15439',\n",
       "   'O42275',\n",
       "   'P0DTD1',\n",
       "   'O42275',\n",
       "   'P81908',\n",
       "   'P22303']),\n",
       " ('CHEMBL110',\n",
       "  ['P04406',\n",
       "   'P28593',\n",
       "   'P00811',\n",
       "   'P52270',\n",
       "   'P52270',\n",
       "   'O89049',\n",
       "   'O75496',\n",
       "   'Q99700',\n",
       "   'Q8WS26',\n",
       "   'Q197X6',\n",
       "   'P25779',\n",
       "   'Q7Z1V1',\n",
       "   'Q7Z1V1',\n",
       "   'Q7Z1V1',\n",
       "   'P22830',\n",
       "   'P08397',\n",
       "   'O95342',\n",
       "   'Q92887',\n",
       "   'O15438',\n",
       "   'O15439',\n",
       "   'Q12809',\n",
       "   'P05177',\n",
       "   'P11712',\n",
       "   'P33261',\n",
       "   'P10635',\n",
       "   'P08684',\n",
       "   'Q96GD4',\n",
       "   'P0DTD1'])]"
      ]
     },
     "execution_count": 12,
     "metadata": {},
     "output_type": "execute_result"
    }
   ],
   "source": [
    "drugs_uniprot_AC = {}\n",
    "number_of_AC = []\n",
    "\n",
    "for drug in drugs_since_2012:\n",
    "    uniprot_AC = []\n",
    "    drug['molecule_chembl_id']\n",
    "    associated_targets = activities.filter(molecule_chembl_id=drug['molecule_chembl_id'])\n",
    "    number_of_AC.append(len(associated_targets))\n",
    "    for activity in associated_targets:\n",
    "        target = targets.filter(target_chembl_id = activity['target_chembl_id'])[0]\n",
    "        if len(target['target_components']) > 0:\n",
    "            if len(target['target_components'][0]['accession']) > 0:\n",
    "                uniprot_AC.append(target['target_components'][0]['accession'])\n",
    "    drugs_uniprot_AC[drug['molecule_chembl_id']] = uniprot_AC\n",
    "\n",
    "# dictionary with chembl id of drugs as keys and a list of UniProt accession number of associated targets as values\n",
    "# exemplary entries of the dictionary \n",
    "list(drugs_uniprot_AC.items())[:2]"
   ]
  },
  {
   "cell_type": "code",
   "execution_count": 13,
   "id": "7c091757",
   "metadata": {},
   "outputs": [
    {
     "data": {
      "text/plain": [
       "['P02545',\n",
       " 'P08482',\n",
       " 'P08482',\n",
       " 'Q96KQ7',\n",
       " 'P11712',\n",
       " 'P11712',\n",
       " 'P08684',\n",
       " 'P05177',\n",
       " 'P33261',\n",
       " 'P05177',\n",
       " 'P10635',\n",
       " 'P08684',\n",
       " 'P33261',\n",
       " 'P10635',\n",
       " 'P49798',\n",
       " 'P15289',\n",
       " 'P04058',\n",
       " 'P81908',\n",
       " 'O42275',\n",
       " 'P06276',\n",
       " 'O42275',\n",
       " 'P06276',\n",
       " 'P22303',\n",
       " 'O42275',\n",
       " 'P06276',\n",
       " 'O95342',\n",
       " 'O95342',\n",
       " 'O95342',\n",
       " 'Q92887',\n",
       " 'O15438',\n",
       " 'O15439',\n",
       " 'O42275',\n",
       " 'P0DTD1',\n",
       " 'O42275',\n",
       " 'P81908',\n",
       " 'P22303']"
      ]
     },
     "execution_count": 13,
     "metadata": {},
     "output_type": "execute_result"
    }
   ],
   "source": [
    "# exemplary list of UniProt accession numbers\n",
    "drugs_uniprot_AC.get(drugs_since_2012[0]['molecule_chembl_id'])"
   ]
  },
  {
   "cell_type": "code",
   "execution_count": 14,
   "id": "a98bcc59",
   "metadata": {},
   "outputs": [
    {
     "data": {
      "image/png": "[encoded data removed]",
      "text/plain": [
       "<Figure size 432x288 with 1 Axes>"
      ]
     },
     "metadata": {
      "needs_background": "light"
     },
     "output_type": "display_data"
    }
   ],
   "source": [
    "plt.hist(number_of_AC, bins = 20)\n",
    "plt.show()"
   ]
  },
  {
   "cell_type": "code",
   "execution_count": 15,
   "id": "54aa29a3",
   "metadata": {},
   "outputs": [
    {
     "data": {
      "text/plain": [
       "0.3811659192825112"
      ]
     },
     "execution_count": 15,
     "metadata": {},
     "output_type": "execute_result"
    }
   ],
   "source": [
    "number_of_AC.count(0)/446 # number of drugs with no associated drug"
   ]
  },
  {
   "cell_type": "code",
   "execution_count": 16,
   "id": "3f54ebec",
   "metadata": {},
   "outputs": [
    {
     "name": "stdout",
     "output_type": "stream",
     "text": [
      "The median of protein targets associated with a compound that was approved since 2012 is 9.5.\n",
      "(The mean of protein targets associated with a compound is 135.50896860986546.)\n"
     ]
    }
   ],
   "source": [
    "print(f'The median of protein targets associated with a compound that was approved since 2012 is {statistics.median(number_of_AC) }.')\n",
    "print(f'(The mean of protein targets associated with a compound is {statistics.mean(number_of_AC) }.)')"
   ]
  },
  {
   "cell_type": "markdown",
   "id": "6573f86c",
   "metadata": {},
   "source": [
    "Remark: The median is not an integer because the number of approved drugs since 2012 is even and the two 'middle values' are 9 and 10. "
   ]
  },
  {
   "cell_type": "code",
   "execution_count": 17,
   "id": "50076012",
   "metadata": {},
   "outputs": [
    {
     "data": {
      "text/plain": [
       "['A0A143MHK7',\n",
       " 'A3EZJ3',\n",
       " 'A4TVL0',\n",
       " 'A5H660',\n",
       " 'A5Z252',\n",
       " 'A6XA80',\n",
       " 'A7WP95',\n",
       " 'A8DS27',\n",
       " 'B2RXH2',\n",
       " 'B4URF0']"
      ]
     },
     "execution_count": 17,
     "metadata": {},
     "output_type": "execute_result"
    }
   ],
   "source": [
    "# retrieve all protein_targets that are associated to at least one drug that was approved since 2012\n",
    "uniprot_accession_numbers = []\n",
    "for key in drugs_uniprot_AC.keys():\n",
    "    uniprot_accession_numbers += drugs_uniprot_AC[key]\n",
    "uniprot_accession_numbers = list(np.unique(uniprot_accession_numbers)) # eliminate duplicates\n",
    "uniprot_accession_numbers[0:10] # list of all retrieved uniprot accession numbers"
   ]
  },
  {
   "cell_type": "markdown",
   "id": "d5edd1aa",
   "metadata": {},
   "source": [
    "### Task 3"
   ]
  },
  {
   "cell_type": "code",
   "execution_count": 19,
   "id": "4c3c3dbe",
   "metadata": {},
   "outputs": [
    {
     "data": {
      "text/plain": [
       "['Membrane',\n",
       " 'Nucleotidyltransferase',\n",
       " 'RNA-directed RNA polymerase',\n",
       " 'Transferase',\n",
       " 'Viral RNA replication',\n",
       " 'ATP-binding',\n",
       " 'Capsid protein',\n",
       " 'Disulfide bond',\n",
       " 'Fusion of virus membrane with host endosomal membrane',\n",
       " 'Fusion of virus membrane with host membrane']"
      ]
     },
     "execution_count": 19,
     "metadata": {},
     "output_type": "execute_result"
    }
   ],
   "source": [
    "# splitting targets in sections of at most 100 elements the ebi website only allows at most 100 keywords\n",
    "slices = [0,100,200,300,400,446] \n",
    "keywords = []\n",
    "\n",
    "for i in [0,1,2,3,4]:\n",
    "\n",
    "    protein_targets_str = ','.join(list(uniprot_accession_numbers)[slices[i]:slices[i+1]])\n",
    "    ebi_url = 'https://www.ebi.ac.uk/proteins/api/proteins?offset=0&size=100&accession='+protein_targets_str\n",
    "    request = requests.get(ebi_url, headers={'Accept': 'application/json'})\n",
    "    for t in np.arange(slices[i+1] - slices[i]):\n",
    "        for word in request.json()[t]['keywords']:\n",
    "            keywords.append(word['value'])\n",
    "\n",
    "keywords[0:10]"
   ]
  },
  {
   "cell_type": "code",
   "execution_count": 20,
   "id": "817f14bb",
   "metadata": {},
   "outputs": [
    {
     "data": {
      "text/plain": [
       "<AxesSubplot:title={'center':'Counts of top 10 most common keywords'}, xlabel='keyword', ylabel='counts'>"
      ]
     },
     "execution_count": 20,
     "metadata": {},
     "output_type": "execute_result"
    },
    {
     "data": {
      "image/png": "[encoded data removed]",
      "text/plain": [
       "<Figure size 432x288 with 1 Axes>"
      ]
     },
     "metadata": {
      "needs_background": "light"
     },
     "output_type": "display_data"
    }
   ],
   "source": [
    "keywords_top10 = pd.Series(keywords).value_counts()[0:10] # only taking 10 most common keywords\n",
    "keywords_top10.plot(kind = 'bar', title = 'Counts of top 10 most common keywords', xlabel = 'keyword', ylabel = 'counts')"
   ]
  },
  {
   "cell_type": "code",
   "execution_count": 21,
   "id": "92c1b57d",
   "metadata": {},
   "outputs": [
    {
     "data": {
      "text/plain": [
       "Reference proteome      415\n",
       "3D-structure            317\n",
       "Membrane                268\n",
       "Phosphoprotein          262\n",
       "Alternative splicing    227\n",
       "Glycoprotein            190\n",
       "Cell membrane           173\n",
       "Transmembrane           163\n",
       "Transmembrane helix     162\n",
       "Nucleotide-binding      159\n",
       "dtype: int64"
      ]
     },
     "execution_count": 21,
     "metadata": {},
     "output_type": "execute_result"
    }
   ],
   "source": [
    "# top 10 most common keywords and the number of times they appear \n",
    "pd.Series(keywords).value_counts()[0:10]"
   ]
  },
  {
   "cell_type": "markdown",
   "id": "7b8c0695",
   "metadata": {},
   "source": [
    "### Interpretation of the results"
   ]
  },
  {
   "cell_type": "markdown",
   "id": "48be4e11",
   "metadata": {},
   "source": [
    "Task 1: The first drug was approved 83 years ago in 1939. Since then, there are currently 14293 approved drugs which means, on average ca. 172 drugs were approved per year. However, since 2012, only 446 drugs have been approved. So over the past 10 years, the yearly average sank to only about 45 approved per year."
   ]
  },
  {
   "cell_type": "markdown",
   "id": "aca6fdd2",
   "metadata": {},
   "source": [
    "Task 2: The median number of protein targets associated with a drug that has been approved since 2012 is 9,5. But this number is not representative. Almost 40% of the drugs have no associated protein target (which implies that they have a different type of target?). A few drugs with an extremely low selectivity have as much as 2500 associated protein targets. These outliers raise the median."
   ]
  },
  {
   "cell_type": "markdown",
   "id": "9fdfa957",
   "metadata": {},
   "source": [
    "Task 3: The most common keyword is \"Reference proteome\" which describes a represenative for the set of proteins that can be expressed by a specific organism. It seems reasonable that a protein target that is in such a 'model proteome' is particularly favorable because it suggests that they are expressed by the majority of individuals of a certain organism. Thus, a drug associated to this protein target is more likely to work for all organisms and the effect might not vary among individuals.\n",
    "I can imagine that the proteome of different type of organisms can be of interest: The one of viruses and bacteria if the drug target is a protein in bacteria/viruses (if the drug is used for bacterial or viral infections). The one of lab animals like mice to see if a drug can be tested on them. The one of humans if the drug target is a protein in humans. Or in case of the protein target being bacterial/viral to see if humans also express this protein to avoid potential side effects. "
   ]
  },
  {
   "cell_type": "code",
   "execution_count": null,
   "id": "4104279a",
   "metadata": {},
   "outputs": [],
   "source": []
  }
 ],
 "metadata": {
  "kernelspec": {
   "display_name": "Python 3 (ipykernel)",
   "language": "python",
   "name": "python3"
  },
  "language_info": {
   "codemirror_mode": {
    "name": "ipython",
    "version": 3
   },
   "file_extension": ".py",
   "mimetype": "text/x-python",
   "name": "python",
   "nbconvert_exporter": "python",
   "pygments_lexer": "ipython3",
   "version": "3.9.7"
  }
 },
 "nbformat": 4,
 "nbformat_minor": 5
}
